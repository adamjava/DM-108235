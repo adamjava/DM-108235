{
 "cells": [
  {
   "cell_type": "code",
   "execution_count": 181,
   "metadata": {},
   "outputs": [
    {
     "name": "stdout",
     "output_type": "stream",
     "text": [
      "   Gender  FSIQ  VIQ  PIQ  Weight  Height  MRI_Count\n",
      "1  Female   133  132  124   118.0    64.5     816932\n",
      "2    Male   140  150  124     NaN    72.5    1001121\n",
      "3    Male   139  123  150   143.0    73.3    1038437\n",
      "4    Male   133  129  128   172.0    68.8     965353\n",
      "5  Female   137  132  134   147.0    65.0     951545\n",
      "             FSIQ         VIQ        PIQ      Weight     Height     MRI_Count\n",
      "count   40.000000   40.000000   40.00000   38.000000  39.000000  4.000000e+01\n",
      "mean   113.450000  112.350000  111.02500  151.052632  68.525641  9.087550e+05\n",
      "std     24.082071   23.616107   22.47105   23.478509   3.994649  7.228205e+04\n",
      "min     77.000000   71.000000   72.00000  106.000000  62.000000  7.906190e+05\n",
      "25%     89.750000   90.000000   88.25000  135.250000  66.000000  8.559185e+05\n",
      "50%    116.500000  113.000000  115.00000  146.500000  68.000000  9.053990e+05\n",
      "75%    135.500000  129.750000  128.00000  172.000000  70.500000  9.500780e+05\n",
      "max    144.000000  150.000000  150.00000  192.000000  77.000000  1.079549e+06\n",
      "<class 'pandas.core.frame.DataFrame'>\n",
      "(40, 7)\n",
      "Index(['Gender', 'FSIQ', 'VIQ', 'PIQ', 'Weight', 'Height', 'MRI_Count'], dtype='object')\n",
      "True\n",
      "float64\n",
      "a Gender        object\n",
      "FSIQ           int64\n",
      "VIQ            int64\n",
      "PIQ            int64\n",
      "Weight       float64\n",
      "Height       float64\n",
      "MRI_Count      int64\n",
      "dtype: object\n",
      "<class 'pandas.core.frame.DataFrame'>\n",
      "Int64Index: 40 entries, 1 to 40\n",
      "Data columns (total 7 columns):\n",
      "Gender       40 non-null object\n",
      "FSIQ         40 non-null int64\n",
      "VIQ          40 non-null int64\n",
      "PIQ          40 non-null int64\n",
      "Weight       38 non-null float64\n",
      "Height       39 non-null float64\n",
      "MRI_Count    40 non-null int64\n",
      "dtypes: float64(2), int64(4), object(1)\n",
      "memory usage: 2.5+ KB\n",
      "None\n"
     ]
    }
   ],
   "source": [
    "import numpy as np\n",
    "import pandas as pd\n",
    "brain = pd.read_csv('brain_size.csv', sep=\";\", index_col=0 , na_values=['.']) #index_col która kolumna jest indeksująca, \n",
    "#na_values - które wartości traktować jako NaN\n",
    "\n",
    "print(brain.head())\n",
    "print(brain.describe())\n",
    "print(type(brain))\n",
    "print(brain.shape)\n",
    "print(brain.columns)\n",
    "\n",
    "print(brain.isnull().values.any()) #sprawdzi czy są jakieś puste wartości\n",
    "\n",
    "print(brain.Weight.dtype) #dtype - wewnętrzny typ danych\n",
    "\n",
    "print(brain.dtypes) #podaje typy kolumn\n",
    "\n",
    "print(brain.info()) #wyświteli info o ramce, ile danych nieobecnych! rozszerzony describe"
   ]
  },
  {
   "cell_type": "code",
   "execution_count": 42,
   "metadata": {},
   "outputs": [
    {
     "name": "stdout",
     "output_type": "stream",
     "text": [
      "109.45\n",
      "115.25\n"
     ]
    }
   ],
   "source": [
    "print(brain[brain.Gender=='Female']['VIQ'].mean())\n",
    "#brain.Gender=='Female'\n",
    "print(brain[brain.Gender=='Male']['VIQ'].mean())"
   ]
  },
  {
   "cell_type": "code",
   "execution_count": 183,
   "metadata": {},
   "outputs": [
    {
     "data": {
      "text/plain": [
       "Gender\n",
       "Female    109.45\n",
       "Male      115.25\n",
       "Name: VIQ, dtype: float64"
      ]
     },
     "execution_count": 183,
     "metadata": {},
     "output_type": "execute_result"
    }
   ],
   "source": [
    "brain.groupby('Gender')['VIQ'].mean()"
   ]
  },
  {
   "cell_type": "code",
   "execution_count": 55,
   "metadata": {},
   "outputs": [
    {
     "data": {
      "text/plain": [
       "Female         AxesSubplot(0.1,0.15;0.363636x0.75)\n",
       "Male      AxesSubplot(0.536364,0.15;0.363636x0.75)\n",
       "dtype: object"
      ]
     },
     "execution_count": 55,
     "metadata": {},
     "output_type": "execute_result"
    },
    {
     "data": {
      "image/png": "[encoded data removed]",
      "text/plain": [
       "<Figure size 432x288 with 2 Axes>"
      ]
     },
     "metadata": {},
     "output_type": "display_data"
    }
   ],
   "source": [
    "genders = brain.groupby('Gender')\n",
    "genders.mean()\n",
    "import matplotlib as mp\n",
    "import matplotlib.pyplot as plt\n",
    "genders.boxplot()"
   ]
  },
  {
   "cell_type": "code",
   "execution_count": 62,
   "metadata": {},
   "outputs": [
    {
     "data": {
      "text/plain": [
       "Ttest_indResult(statistic=-0.7726161723275011, pvalue=0.44452876778583217)"
      ]
     },
     "execution_count": 62,
     "metadata": {},
     "output_type": "execute_result"
    }
   ],
   "source": [
    "from scipy import stats \n",
    "f = brain[brain['Gender']=='Female']['VIQ']\n",
    "m = brain[brain['Gender']=='Male']['VIQ']\n",
    "stats.ttest_ind(f,m) "
   ]
  },
  {
   "cell_type": "code",
   "execution_count": 85,
   "metadata": {},
   "outputs": [
    {
     "name": "stdout",
     "output_type": "stream",
     "text": [
      "  Gender     Height      Weight   heigths_m   weights_m\n",
      "0   Male  73.847017  241.893563  184.617543  109.819678\n",
      "1   Male  68.781904  162.310473  171.954760   73.688955\n",
      "2   Male  74.110105  212.740856  185.275263   96.584348\n",
      "3   Male  71.730978  220.042470  179.327446   99.899282\n",
      "4   Male  69.881796  206.349801  174.704490   93.682809\n",
      "      Gender     Height      Weight   heigths_m  weights_m\n",
      "9995  Female  66.172652  136.777454  165.431630  62.096964\n",
      "9996  Female  67.067155  170.867906  167.667887  77.574029\n",
      "9997  Female  63.867992  128.475319  159.669981  58.327795\n",
      "9998  Female  69.034243  163.852461  172.585608  74.389017\n",
      "9999  Female  61.944246  113.649103  154.860615  51.596693\n",
      "(10000, 5)\n",
      "Index(['Gender', 'Height', 'Weight', 'heigths_m', 'weights_m'], dtype='object')\n",
      "<class 'pandas.core.frame.DataFrame'>\n",
      "RangeIndex: 10000 entries, 0 to 9999\n",
      "Data columns (total 5 columns):\n",
      "Gender       10000 non-null object\n",
      "Height       10000 non-null float64\n",
      "Weight       10000 non-null float64\n",
      "heigths_m    10000 non-null float64\n",
      "weights_m    10000 non-null float64\n",
      "dtypes: float64(4), object(1)\n",
      "memory usage: 390.7+ KB\n"
     ]
    },
    {
     "data": {
      "text/plain": [
       "Gender\n",
       "Female    61.680482\n",
       "Male      84.907362\n",
       "Name: weights_m, dtype: float64"
      ]
     },
     "execution_count": 85,
     "metadata": {},
     "output_type": "execute_result"
    }
   ],
   "source": [
    "hw = pd.read_csv('01_heights_weights_genders.csv')\n",
    "\n",
    "\n",
    "hw['heigths_m'] = hw['Height'] * 2.5 #stworzenie nowej kolumny przez przeskalowanie starej\n",
    "hw['weights_m'] = hw['Weight'] * 0.454 \n",
    "\n",
    "print(hw.head())\n",
    "print(hw.tail())\n",
    "\n",
    "print(hw.shape)\n",
    "print(hw.columns)\n",
    "list(hw) #lista nazw kolumn\n",
    "hw.describe()\n",
    "hw.info()\n",
    "\n",
    "hw.groupby(\"Gender\").weights_m.mean() #średnia waga po płci"
   ]
  },
  {
   "cell_type": "code",
   "execution_count": 93,
   "metadata": {},
   "outputs": [
    {
     "data": {
      "text/plain": [
       "Ttest_indResult(statistic=131.81952765081866, pvalue=0.0)"
      ]
     },
     "execution_count": 93,
     "metadata": {},
     "output_type": "execute_result"
    }
   ],
   "source": [
    "m = hw[hw.Gender=='Male'].weights_m\n",
    "f = hw[hw.Gender=='Female']['weights_m']\n",
    "stats.ttest_ind(m,f)"
   ]
  },
  {
   "cell_type": "code",
   "execution_count": 112,
   "metadata": {},
   "outputs": [
    {
     "name": "stdout",
     "output_type": "stream",
     "text": [
      "  Gender     Height      Weight   heigths_m   weights_m target\n",
      "0   Male  73.847017  241.893563  184.617543  109.819678      0\n",
      "1   Male  68.781904  162.310473  171.954760   73.688955      0\n",
      "2   Male  74.110105  212.740856  185.275263   96.584348      0\n",
      "3   Male  71.730978  220.042470  179.327446   99.899282      0\n",
      "4   Male  69.881796  206.349801  174.704490   93.682809      0\n",
      "      Gender     Height      Weight   heigths_m  weights_m target\n",
      "9995  Female  66.172652  136.777454  165.431630  62.096964      1\n",
      "9996  Female  67.067155  170.867906  167.667887  77.574029      1\n",
      "9997  Female  63.867992  128.475319  159.669981  58.327795      1\n",
      "9998  Female  69.034243  163.852461  172.585608  74.389017      1\n",
      "9999  Female  61.944246  113.649103  154.860615  51.596693      1\n"
     ]
    },
    {
     "data": {
      "text/plain": [
       "array([0, 1], dtype=int64)"
      ]
     },
     "execution_count": 112,
     "metadata": {},
     "output_type": "execute_result"
    }
   ],
   "source": [
    "hw['target'] = hw['Gender'] #nowa kolumna dla modelu, po prostu nasz target to kopia Gender \n",
    "hw['target'] = np.where(hw['Gender'] == 'Male', 0, hw['target']) #zamiana kolumny kategoryjnej na numeryczna, konieczne dla dalszej analizy\n",
    "hw['target'] = np.where(hw['Gender'] == 'Female', 1, hw['target'])\n",
    "\n",
    "print(hw.head())\n",
    "print(hw.tail())\n",
    "\n",
    "hw['target'].unique() # target jest dalej kategoryjny, dtype = object\n",
    "hw['target'] = hw['target'].astype('int')\n",
    "hw['target'].unique()\n"
   ]
  },
  {
   "cell_type": "code",
   "execution_count": 113,
   "metadata": {},
   "outputs": [
    {
     "data": {
      "text/plain": [
       "1    5000\n",
       "0    5000\n",
       "Name: target, dtype: int64"
      ]
     },
     "execution_count": 113,
     "metadata": {},
     "output_type": "execute_result"
    }
   ],
   "source": [
    "hw['target'].unique()\n",
    "\n",
    "hw['target'].value_counts()"
   ]
  },
  {
   "cell_type": "code",
   "execution_count": 117,
   "metadata": {},
   "outputs": [
    {
     "data": {
      "text/plain": [
       "<matplotlib.axes._subplots.AxesSubplot at 0x1f541395c0>"
      ]
     },
     "execution_count": 117,
     "metadata": {},
     "output_type": "execute_result"
    },
    {
     "data": {
      "image/png": "[encoded data removed]",
      "text/plain": [
       "<Figure size 432x288 with 1 Axes>"
      ]
     },
     "metadata": {},
     "output_type": "display_data"
    }
   ],
   "source": [
    "import seaborn as sms #wizualizacje statystyczne\n",
    "sms.countplot(data=hw, x='target', palette='hls')"
   ]
  },
  {
   "cell_type": "code",
   "execution_count": 129,
   "metadata": {},
   "outputs": [
    {
     "name": "stdout",
     "output_type": "stream",
     "text": [
      "           Height      Weight   heigths_m  weights_m\n",
      "target                                              \n",
      "0       69.026346  187.020621  172.565865  84.907362\n",
      "1       63.708774  135.860093  159.271934  61.680482\n"
     ]
    },
    {
     "data": {
      "text/plain": [
       "<matplotlib.axes._subplots.AxesSubplot at 0x1f4d6a2128>"
      ]
     },
     "execution_count": 129,
     "metadata": {},
     "output_type": "execute_result"
    },
    {
     "data": {
      "image/png": "[encoded data removed]",
      "text/plain": [
       "<Figure size 432x288 with 1 Axes>"
      ]
     },
     "metadata": {},
     "output_type": "display_data"
    }
   ],
   "source": [
    "print(hw.groupby('target').mean())\n",
    "hw['heigths_m'].hist(bins=50)"
   ]
  },
  {
   "cell_type": "code",
   "execution_count": 184,
   "metadata": {},
   "outputs": [
    {
     "data": {
      "text/plain": [
       "<matplotlib.axes._subplots.AxesSubplot at 0x1f5eb8d550>"
      ]
     },
     "execution_count": 184,
     "metadata": {},
     "output_type": "execute_result"
    },
    {
     "data": {
      "image/png": "[encoded data removed]",
      "text/plain": [
       "<Figure size 432x288 with 1 Axes>"
      ]
     },
     "metadata": {},
     "output_type": "display_data"
    }
   ],
   "source": [
    "hw['weights_m'].hist(bins=100)"
   ]
  },
  {
   "cell_type": "code",
   "execution_count": 140,
   "metadata": {},
   "outputs": [
    {
     "data": {
      "text/plain": [
       "target\n",
       "0    AxesSubplot(0.125,0.125;0.775x0.755)\n",
       "1    AxesSubplot(0.125,0.125;0.775x0.755)\n",
       "Name: weights_m, dtype: object"
      ]
     },
     "execution_count": 140,
     "metadata": {},
     "output_type": "execute_result"
    },
    {
     "data": {
      "image/png": "[encoded data removed]",
      "text/plain": [
       "<Figure size 432x288 with 1 Axes>"
      ]
     },
     "metadata": {},
     "output_type": "display_data"
    }
   ],
   "source": [
    "hw.groupby('target')['weights_m'].hist() #histogram podzielony na płcie"
   ]
  },
  {
   "cell_type": "code",
   "execution_count": 168,
   "metadata": {},
   "outputs": [
    {
     "name": "stdout",
     "output_type": "stream",
     "text": [
      "[1 1 1 ... 0 1 1]\n"
     ]
    },
    {
     "data": {
      "text/plain": [
       "array([[1.581e-01, 8.419e-01],\n",
       "       [1.872e-01, 8.128e-01],\n",
       "       [4.072e-03, 9.959e-01],\n",
       "       ...,\n",
       "       [7.595e-01, 2.405e-01],\n",
       "       [4.242e-02, 9.576e-01],\n",
       "       [4.953e-04, 9.995e-01]])"
      ]
     },
     "execution_count": 168,
     "metadata": {},
     "output_type": "execute_result"
    }
   ],
   "source": [
    "#jak oszacować płeć na podstawie wagi i wieku\n",
    "#użyjemy regresji logistycznej - to klasyfikator binarny!\n",
    "\n",
    "# y - tagret - to co prognozujemy\n",
    "# X - nasze dane\n",
    "\n",
    "\n",
    "from sklearn.model_selection import train_test_split\n",
    "from sklearn.linear_model import LogisticRegression\n",
    "\n",
    "y= hw['target']\n",
    "X = hw[['weights_m', 'heigths_m']]\n",
    "\n",
    "#dzielimy dane na zbiór treningowy i walidacyjny\n",
    "X_train, X_test, y_train, y_test = train_test_split(X,y,test_size=0.3) \n",
    "#czyli 70% do train, 30% do test\n",
    "\n",
    "#regresja - uczymy na zbiorze treningowym\n",
    "logreg = LogisticRegression()\n",
    "logreg.fit(X_train,y_train) \n",
    "\n",
    "#przewidujemy jak model zadziała na danych testowych\n",
    "y_pred = logreg.predict(X_test) \n",
    "print(y_pred)\n",
    "\n",
    "\n",
    "#jakie jest prawdopodobieństwo, że wypadnie [0, 1]\n",
    "y_prob = logreg.predict_proba(X_test)\n",
    "y_prob"
   ]
  },
  {
   "cell_type": "code",
   "execution_count": 171,
   "metadata": {},
   "outputs": [
    {
     "data": {
      "text/plain": [
       "array([[1.000e+00, 4.581e-25],\n",
       "       [1.000e+00, 1.612e-27],\n",
       "       [1.000e+00, 6.221e-27],\n",
       "       [1.000e+00, 8.672e-27],\n",
       "       [1.000e+00, 1.142e-29],\n",
       "       [1.000e+00, 5.800e-29]])"
      ]
     },
     "execution_count": 171,
     "metadata": {},
     "output_type": "execute_result"
    }
   ],
   "source": [
    "X_test.head()\n",
    "#tworzymy słownik z naszymi własnymi danymi\n",
    "\n",
    "\n",
    "slownik = {'weights_m': [92,67,65,69,100,70], 'heigths_m':[170,172,168,169,198,181]}\n",
    "X_class = pd.DataFrame(slownik)\n",
    "\n",
    "y_class = logreg.predict(X_class)\n",
    "y_class\n",
    "np.set_printoptions(precision=3)\n",
    "y_prob1 = (logreg.predict_proba(X_class))\n",
    "y_prob1\n",
    "\n",
    "#logreg.coef_"
   ]
  },
  {
   "cell_type": "code",
   "execution_count": 185,
   "metadata": {},
   "outputs": [
    {
     "data": {
      "text/html": [
       "<div>\n",
       "<style scoped>\n",
       "    .dataframe tbody tr th:only-of-type {\n",
       "        vertical-align: middle;\n",
       "    }\n",
       "\n",
       "    .dataframe tbody tr th {\n",
       "        vertical-align: top;\n",
       "    }\n",
       "\n",
       "    .dataframe thead th {\n",
       "        text-align: right;\n",
       "    }\n",
       "</style>\n",
       "<table border=\"1\" class=\"dataframe\">\n",
       "  <thead>\n",
       "    <tr style=\"text-align: right;\">\n",
       "      <th></th>\n",
       "      <th>heigths_m</th>\n",
       "      <th>weights_m</th>\n",
       "    </tr>\n",
       "  </thead>\n",
       "  <tbody>\n",
       "    <tr>\n",
       "      <th>0</th>\n",
       "      <td>170</td>\n",
       "      <td>92</td>\n",
       "    </tr>\n",
       "    <tr>\n",
       "      <th>1</th>\n",
       "      <td>172</td>\n",
       "      <td>67</td>\n",
       "    </tr>\n",
       "    <tr>\n",
       "      <th>2</th>\n",
       "      <td>168</td>\n",
       "      <td>65</td>\n",
       "    </tr>\n",
       "    <tr>\n",
       "      <th>3</th>\n",
       "      <td>169</td>\n",
       "      <td>69</td>\n",
       "    </tr>\n",
       "    <tr>\n",
       "      <th>4</th>\n",
       "      <td>198</td>\n",
       "      <td>100</td>\n",
       "    </tr>\n",
       "    <tr>\n",
       "      <th>5</th>\n",
       "      <td>181</td>\n",
       "      <td>70</td>\n",
       "    </tr>\n",
       "  </tbody>\n",
       "</table>\n",
       "</div>"
      ],
      "text/plain": [
       "   heigths_m  weights_m\n",
       "0        170         92\n",
       "1        172         67\n",
       "2        168         65\n",
       "3        169         69\n",
       "4        198        100\n",
       "5        181         70"
      ]
     },
     "execution_count": 185,
     "metadata": {},
     "output_type": "execute_result"
    }
   ],
   "source": [
    "X_class"
   ]
  },
  {
   "cell_type": "code",
   "execution_count": 180,
   "metadata": {},
   "outputs": [
    {
     "name": "stdout",
     "output_type": "stream",
     "text": [
      "Optimization terminated successfully.\n",
      "         Current function value: 0.209143\n",
      "         Iterations 8\n"
     ]
    },
    {
     "data": {
      "text/html": [
       "<div>\n",
       "<style scoped>\n",
       "    .dataframe tbody tr th:only-of-type {\n",
       "        vertical-align: middle;\n",
       "    }\n",
       "\n",
       "    .dataframe tbody tr th {\n",
       "        vertical-align: top;\n",
       "    }\n",
       "\n",
       "    .dataframe thead th {\n",
       "        text-align: right;\n",
       "    }\n",
       "</style>\n",
       "<table border=\"1\" class=\"dataframe\">\n",
       "  <thead>\n",
       "    <tr style=\"text-align: right;\">\n",
       "      <th></th>\n",
       "      <th>heigths_m</th>\n",
       "      <th>weights_m</th>\n",
       "    </tr>\n",
       "  </thead>\n",
       "  <tbody>\n",
       "    <tr>\n",
       "      <th>0</th>\n",
       "      <td>170</td>\n",
       "      <td>92</td>\n",
       "    </tr>\n",
       "    <tr>\n",
       "      <th>1</th>\n",
       "      <td>172</td>\n",
       "      <td>67</td>\n",
       "    </tr>\n",
       "    <tr>\n",
       "      <th>2</th>\n",
       "      <td>168</td>\n",
       "      <td>65</td>\n",
       "    </tr>\n",
       "    <tr>\n",
       "      <th>3</th>\n",
       "      <td>169</td>\n",
       "      <td>69</td>\n",
       "    </tr>\n",
       "    <tr>\n",
       "      <th>4</th>\n",
       "      <td>198</td>\n",
       "      <td>100</td>\n",
       "    </tr>\n",
       "    <tr>\n",
       "      <th>5</th>\n",
       "      <td>181</td>\n",
       "      <td>70</td>\n",
       "    </tr>\n",
       "  </tbody>\n",
       "</table>\n",
       "</div>"
      ],
      "text/plain": [
       "   heigths_m  weights_m\n",
       "0        170         92\n",
       "1        172         67\n",
       "2        168         65\n",
       "3        169         69\n",
       "4        198        100\n",
       "5        181         70"
      ]
     },
     "execution_count": 180,
     "metadata": {},
     "output_type": "execute_result"
    }
   ],
   "source": [
    "import statsmodels.api as sm\n",
    "log_model = sm.Logit(y,X)\n",
    "result = log_model.fit()\n",
    "#print(result.summary())\n",
    "#logreg.summary()\n",
    "X_class"
   ]
  },
  {
   "cell_type": "code",
   "execution_count": null,
   "metadata": {},
   "outputs": [],
   "source": []
  }
 ],
 "metadata": {
  "kernelspec": {
   "display_name": "Python 3",
   "language": "python",
   "name": "python3"
  },
  "language_info": {
   "codemirror_mode": {
    "name": "ipython",
    "version": 3
   },
   "file_extension": ".py",
   "mimetype": "text/x-python",
   "name": "python",
   "nbconvert_exporter": "python",
   "pygments_lexer": "ipython3",
   "version": "3.6.5"
  }
 },
 "nbformat": 4,
 "nbformat_minor": 2
}
