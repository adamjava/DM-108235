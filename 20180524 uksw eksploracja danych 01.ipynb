{
 "cells": [
  {
   "cell_type": "code",
   "execution_count": 4,
   "metadata": {},
   "outputs": [
    {
     "name": "stdout",
     "output_type": "stream",
     "text": [
      "Collecting advanced-scorecard-builder\n",
      "  Using cached https://files.pythonhosted.org/packages/67/fa/45117813d0916b74345e12e369dfb98801d3e91db9f126a24d71a33feb65/Advanced_scorecard_builder-1.1-py3-none-any.whl\n",
      "Collecting regressors (from advanced-scorecard-builder)\n",
      "  Using cached https://files.pythonhosted.org/packages/80/5d/bacfcf2b3865305156e2507ed9a968cb6c7f326cad1d1720e60f80d02797/regressors-0.0.3.tar.gz\n",
      "Requirement already satisfied: numpy>=1.9.1 in c:\\users\\rumcajs\\anaconda3\\lib\\site-packages (from advanced-scorecard-builder) (1.14.3)\n",
      "Requirement already satisfied: pandas in c:\\users\\rumcajs\\anaconda3\\lib\\site-packages (from advanced-scorecard-builder) (0.23.0)\n",
      "Requirement already satisfied: scipy>=0.9 in c:\\users\\rumcajs\\anaconda3\\lib\\site-packages (from regressors->advanced-scorecard-builder) (1.1.0)\n",
      "Requirement already satisfied: matplotlib in c:\\users\\rumcajs\\anaconda3\\lib\\site-packages (from regressors->advanced-scorecard-builder) (2.2.2)\n",
      "Requirement already satisfied: scikit-learn>=0.17 in c:\\users\\rumcajs\\anaconda3\\lib\\site-packages (from regressors->advanced-scorecard-builder) (0.19.1)\n",
      "Requirement already satisfied: statsmodels>=0.6.1 in c:\\users\\rumcajs\\anaconda3\\lib\\site-packages (from regressors->advanced-scorecard-builder) (0.9.0)\n",
      "Requirement already satisfied: seaborn in c:\\users\\rumcajs\\anaconda3\\lib\\site-packages (from regressors->advanced-scorecard-builder) (0.8.1)\n",
      "Requirement already satisfied: python-dateutil>=2.5.0 in c:\\users\\rumcajs\\anaconda3\\lib\\site-packages (from pandas->advanced-scorecard-builder) (2.7.3)\n",
      "Requirement already satisfied: pytz>=2011k in c:\\users\\rumcajs\\anaconda3\\lib\\site-packages (from pandas->advanced-scorecard-builder) (2018.4)\n",
      "Requirement already satisfied: cycler>=0.10 in c:\\users\\rumcajs\\anaconda3\\lib\\site-packages (from matplotlib->regressors->advanced-scorecard-builder) (0.10.0)\n",
      "Requirement already satisfied: pyparsing!=2.0.4,!=2.1.2,!=2.1.6,>=2.0.1 in c:\\users\\rumcajs\\anaconda3\\lib\\site-packages (from matplotlib->regressors->advanced-scorecard-builder) (2.2.0)\n",
      "Requirement already satisfied: six>=1.10 in c:\\users\\rumcajs\\anaconda3\\lib\\site-packages (from matplotlib->regressors->advanced-scorecard-builder) (1.11.0)\n",
      "Requirement already satisfied: kiwisolver>=1.0.1 in c:\\users\\rumcajs\\anaconda3\\lib\\site-packages (from matplotlib->regressors->advanced-scorecard-builder) (1.0.1)\n",
      "Requirement already satisfied: setuptools in c:\\users\\rumcajs\\anaconda3\\lib\\site-packages (from kiwisolver>=1.0.1->matplotlib->regressors->advanced-scorecard-builder) (39.1.0)\n",
      "Building wheels for collected packages: regressors\n",
      "  Running setup.py bdist_wheel for regressors: started\n",
      "  Running setup.py bdist_wheel for regressors: finished with status 'done'\n",
      "  Stored in directory: C:\\Users\\rumcajs\\AppData\\Local\\pip\\Cache\\wheels\\b2\\89\\fc\\7867f77234d0033395f7ad9814f245b337139acaa06b085aa2\n",
      "Successfully built regressors\n",
      "Installing collected packages: regressors, advanced-scorecard-builder\n",
      "Successfully installed advanced-scorecard-builder-1.1 regressors-0.0.3\n"
     ]
    },
    {
     "name": "stderr",
     "output_type": "stream",
     "text": [
      "distributed 1.21.8 requires msgpack, which is not installed.\n"
     ]
    }
   ],
   "source": [
    "!pip install advanced-scorecard-builder"
   ]
  },
  {
   "cell_type": "code",
   "execution_count": 5,
   "metadata": {},
   "outputs": [],
   "source": [
    "from AmaFree import AdvancedScorecardBuilderdvancedScorecardBuilder as asb"
   ]
  },
  {
   "cell_type": "code",
   "execution_count": 8,
   "metadata": {},
   "outputs": [
    {
     "ename": "TypeError",
     "evalue": "__init__() missing 2 required positional arguments: 'df' and 'target_name'",
     "output_type": "error",
     "traceback": [
      "\u001b[1;31m---------------------------------------------------------------------------\u001b[0m",
      "\u001b[1;31mTypeError\u001b[0m                                 Traceback (most recent call last)",
      "\u001b[1;32m<ipython-input-8-c45e1ed8e154>\u001b[0m in \u001b[0;36m<module>\u001b[1;34m()\u001b[0m\n\u001b[1;32m----> 1\u001b[1;33m \u001b[0masb\u001b[0m\u001b[1;33m(\u001b[0m\u001b[1;33m)\u001b[0m\u001b[1;33m\u001b[0m\u001b[0m\n\u001b[0m",
      "\u001b[1;31mTypeError\u001b[0m: __init__() missing 2 required positional arguments: 'df' and 'target_name'"
     ]
    }
   ],
   "source": [
    "asb()"
   ]
  },
  {
   "cell_type": "code",
   "execution_count": 14,
   "metadata": {},
   "outputs": [],
   "source": [
    "import pandas as pd\n",
    "import numpy as np\n",
    "from sklearn.datasets import load_iris"
   ]
  },
  {
   "cell_type": "code",
   "execution_count": 27,
   "metadata": {},
   "outputs": [
    {
     "name": "stdout",
     "output_type": "stream",
     "text": [
      "None\n"
     ]
    },
    {
     "name": "stderr",
     "output_type": "stream",
     "text": [
      "C:\\Users\\rumcajs\\Anaconda3\\lib\\site-packages\\regressors\\stats.py:169: RuntimeWarning: divide by zero encountered in true_divide\n",
      "  a = np.array(clf.intercept_ / coef_se(clf, X, y)[0])\n",
      "C:\\Users\\rumcajs\\Anaconda3\\lib\\site-packages\\regressors\\stats.py:170: RuntimeWarning: divide by zero encountered in true_divide\n",
      "  b = np.array(clf.coef_ / coef_se(clf, X, y)[1:])\n"
     ]
    },
    {
     "data": {
      "text/html": [
       "<div>\n",
       "<style scoped>\n",
       "    .dataframe tbody tr th:only-of-type {\n",
       "        vertical-align: middle;\n",
       "    }\n",
       "\n",
       "    .dataframe tbody tr th {\n",
       "        vertical-align: top;\n",
       "    }\n",
       "\n",
       "    .dataframe thead th {\n",
       "        text-align: right;\n",
       "    }\n",
       "</style>\n",
       "<table border=\"1\" class=\"dataframe\">\n",
       "  <thead>\n",
       "    <tr style=\"text-align: right;\">\n",
       "      <th></th>\n",
       "      <th>label</th>\n",
       "      <th>variable</th>\n",
       "      <th>score</th>\n",
       "    </tr>\n",
       "  </thead>\n",
       "  <tbody>\n",
       "    <tr>\n",
       "      <th>0</th>\n",
       "      <td>5.85 &lt; sepal length (cm)</td>\n",
       "      <td>sepal length (cm)</td>\n",
       "      <td>65</td>\n",
       "    </tr>\n",
       "    <tr>\n",
       "      <th>1</th>\n",
       "      <td>5.45 &lt; sepal length (cm) &lt;= 5.85</td>\n",
       "      <td>sepal length (cm)</td>\n",
       "      <td>72</td>\n",
       "    </tr>\n",
       "    <tr>\n",
       "      <th>2</th>\n",
       "      <td>4.85 &lt; sepal length (cm) &lt;= 5.45</td>\n",
       "      <td>sepal length (cm)</td>\n",
       "      <td>72</td>\n",
       "    </tr>\n",
       "    <tr>\n",
       "      <th>3</th>\n",
       "      <td>(not missing) and sepal length (cm) &lt;= 4.85</td>\n",
       "      <td>sepal length (cm)</td>\n",
       "      <td>79</td>\n",
       "    </tr>\n",
       "    <tr>\n",
       "      <th>4</th>\n",
       "      <td>2.35 &lt; sepal width (cm) &lt;= 2.95</td>\n",
       "      <td>sepal width (cm)</td>\n",
       "      <td>65</td>\n",
       "    </tr>\n",
       "    <tr>\n",
       "      <th>5</th>\n",
       "      <td>(not missing) and sepal width (cm) &lt;= 2.35</td>\n",
       "      <td>sepal width (cm)</td>\n",
       "      <td>65</td>\n",
       "    </tr>\n",
       "    <tr>\n",
       "      <th>6</th>\n",
       "      <td>2.95 &lt; sepal width (cm) &lt;= 3.25</td>\n",
       "      <td>sepal width (cm)</td>\n",
       "      <td>66</td>\n",
       "    </tr>\n",
       "    <tr>\n",
       "      <th>7</th>\n",
       "      <td>3.25 &lt; sepal width (cm)</td>\n",
       "      <td>sepal width (cm)</td>\n",
       "      <td>72</td>\n",
       "    </tr>\n",
       "    <tr>\n",
       "      <th>8</th>\n",
       "      <td>2.6 &lt; petal length (cm)</td>\n",
       "      <td>petal length (cm)</td>\n",
       "      <td>65</td>\n",
       "    </tr>\n",
       "    <tr>\n",
       "      <th>9</th>\n",
       "      <td>(not missing) and petal length (cm) &lt;= 2.6</td>\n",
       "      <td>petal length (cm)</td>\n",
       "      <td>101</td>\n",
       "    </tr>\n",
       "    <tr>\n",
       "      <th>10</th>\n",
       "      <td>0.8 &lt; petal width (cm)</td>\n",
       "      <td>petal width (cm)</td>\n",
       "      <td>65</td>\n",
       "    </tr>\n",
       "    <tr>\n",
       "      <th>11</th>\n",
       "      <td>(not missing) and petal width (cm) &lt;= 0.8</td>\n",
       "      <td>petal width (cm)</td>\n",
       "      <td>101</td>\n",
       "    </tr>\n",
       "  </tbody>\n",
       "</table>\n",
       "</div>"
      ],
      "text/plain": [
       "                                          label           variable  score\n",
       "0                      5.85 < sepal length (cm)  sepal length (cm)     65\n",
       "1              5.45 < sepal length (cm) <= 5.85  sepal length (cm)     72\n",
       "2              4.85 < sepal length (cm) <= 5.45  sepal length (cm)     72\n",
       "3   (not missing) and sepal length (cm) <= 4.85  sepal length (cm)     79\n",
       "4               2.35 < sepal width (cm) <= 2.95   sepal width (cm)     65\n",
       "5    (not missing) and sepal width (cm) <= 2.35   sepal width (cm)     65\n",
       "6               2.95 < sepal width (cm) <= 3.25   sepal width (cm)     66\n",
       "7                       3.25 < sepal width (cm)   sepal width (cm)     72\n",
       "8                       2.6 < petal length (cm)  petal length (cm)     65\n",
       "9    (not missing) and petal length (cm) <= 2.6  petal length (cm)    101\n",
       "10                       0.8 < petal width (cm)   petal width (cm)     65\n",
       "11    (not missing) and petal width (cm) <= 0.8   petal width (cm)    101"
      ]
     },
     "execution_count": 27,
     "metadata": {},
     "output_type": "execute_result"
    }
   ],
   "source": [
    "iris = load_iris()\n",
    "df = pd.DataFrame(iris.data, columns=iris.feature_names)\n",
    "df['target'] = iris.target\n",
    "df=df[:100]\n",
    "#print(df)\n",
    "test = asb(df,'target')\n",
    "#print(test)\n",
    "fit = test.fit()\n",
    "print(fit)\n",
    "test.get_scorecard()"
   ]
  },
  {
   "cell_type": "code",
   "execution_count": 31,
   "metadata": {},
   "outputs": [
    {
     "data": {
      "text/plain": [
       "{'coef': {'sepal length (cm)': 0.011535011021491404,\n",
       "  'sepal width (cm)': 0.010508036304605516,\n",
       "  'petal length (cm)': 0.02874158576762653,\n",
       "  'petal width (cm)': 0.02874158576762653},\n",
       " 'p_value': {'sepal length (cm)': 0.0,\n",
       "  'sepal width (cm)': 0.0,\n",
       "  'petal length (cm)': 0.0,\n",
       "  'petal width (cm)': 0.0},\n",
       " 'features': ['sepal length (cm)',\n",
       "  'sepal width (cm)',\n",
       "  'petal length (cm)',\n",
       "  'petal width (cm)'],\n",
       " 'model': 'LogisticRegressionCV',\n",
       " 'gini': 1.0,\n",
       " 'acc': 1.0,\n",
       " 'Precision': 1.0,\n",
       " 'Recall': 1.0,\n",
       " 'F1': 1.0,\n",
       " 'intercept': array([-0.11581391])}"
      ]
     },
     "execution_count": 31,
     "metadata": {},
     "output_type": "execute_result"
    }
   ],
   "source": [
    "test.model_info_"
   ]
  },
  {
   "cell_type": "code",
   "execution_count": 37,
   "metadata": {},
   "outputs": [
    {
     "name": "stderr",
     "output_type": "stream",
     "text": [
      "C:\\Users\\rumcajs\\Anaconda3\\lib\\site-packages\\regressors\\stats.py:169: RuntimeWarning: divide by zero encountered in true_divide\n",
      "  a = np.array(clf.intercept_ / coef_se(clf, X, y)[0])\n",
      "C:\\Users\\rumcajs\\Anaconda3\\lib\\site-packages\\regressors\\stats.py:170: RuntimeWarning: divide by zero encountered in true_divide\n",
      "  b = np.array(clf.coef_ / coef_se(clf, X, y)[1:])\n"
     ]
    },
    {
     "data": {
      "text/html": [
       "<div>\n",
       "<style scoped>\n",
       "    .dataframe tbody tr th:only-of-type {\n",
       "        vertical-align: middle;\n",
       "    }\n",
       "\n",
       "    .dataframe tbody tr th {\n",
       "        vertical-align: top;\n",
       "    }\n",
       "\n",
       "    .dataframe thead th {\n",
       "        text-align: right;\n",
       "    }\n",
       "</style>\n",
       "<table border=\"1\" class=\"dataframe\">\n",
       "  <thead>\n",
       "    <tr style=\"text-align: right;\">\n",
       "      <th></th>\n",
       "      <th>score</th>\n",
       "      <th>label</th>\n",
       "      <th>Bad rate [%]</th>\n",
       "      <th>Percent of population [%]</th>\n",
       "      <th>n_good</th>\n",
       "      <th>n_bad</th>\n",
       "      <th>IV</th>\n",
       "    </tr>\n",
       "  </thead>\n",
       "  <tbody>\n",
       "    <tr>\n",
       "      <th>0</th>\n",
       "      <td>65</td>\n",
       "      <td>5.85 &lt; sepal length (cm)</td>\n",
       "      <td>100.0</td>\n",
       "      <td>21.4</td>\n",
       "      <td>1.000000e-08</td>\n",
       "      <td>15</td>\n",
       "      <td>10.708207</td>\n",
       "    </tr>\n",
       "    <tr>\n",
       "      <th>1</th>\n",
       "      <td>70</td>\n",
       "      <td>5.45 &lt; sepal length (cm) &lt;= 5.85</td>\n",
       "      <td>73.3</td>\n",
       "      <td>21.4</td>\n",
       "      <td>4.000000e+00</td>\n",
       "      <td>11</td>\n",
       "      <td>0.346475</td>\n",
       "    </tr>\n",
       "    <tr>\n",
       "      <th>2</th>\n",
       "      <td>71</td>\n",
       "      <td>(not missing) and sepal length (cm) &lt;= 5.45</td>\n",
       "      <td>10.0</td>\n",
       "      <td>57.1</td>\n",
       "      <td>3.600000e+01</td>\n",
       "      <td>4</td>\n",
       "      <td>1.463983</td>\n",
       "    </tr>\n",
       "  </tbody>\n",
       "</table>\n",
       "</div>"
      ],
      "text/plain": [
       "   score                                        label  Bad rate [%]    ...            n_good  n_bad         IV\n",
       "0     65                     5.85 < sepal length (cm)         100.0    ...      1.000000e-08     15  10.708207\n",
       "1     70             5.45 < sepal length (cm) <= 5.85          73.3    ...      4.000000e+00     11   0.346475\n",
       "2     71  (not missing) and sepal length (cm) <= 5.45          10.0    ...      3.600000e+01      4   1.463983\n",
       "\n",
       "[3 rows x 7 columns]"
      ]
     },
     "execution_count": 37,
     "metadata": {},
     "output_type": "execute_result"
    }
   ],
   "source": [
    "test.fit(n_category=3)\n",
    "test.get_scorecard()\n",
    "test.model_info_\n",
    "\n",
    "test.show_stats(\"sepal length (cm)\")\n",
    "#IV information value"
   ]
  },
  {
   "cell_type": "code",
   "execution_count": 38,
   "metadata": {},
   "outputs": [
    {
     "ename": "ValueError",
     "evalue": "DataFrame constructor not properly called!",
     "output_type": "error",
     "traceback": [
      "\u001b[1;31m---------------------------------------------------------------------------\u001b[0m",
      "\u001b[1;31mValueError\u001b[0m                                Traceback (most recent call last)",
      "\u001b[1;32m<ipython-input-38-bb479c68f9cd>\u001b[0m in \u001b[0;36m<module>\u001b[1;34m()\u001b[0m\n\u001b[1;32m----> 1\u001b[1;33m \u001b[0mpd\u001b[0m\u001b[1;33m.\u001b[0m\u001b[0mDataFrame\u001b[0m\u001b[1;33m(\u001b[0m\u001b[1;34m\"abt_app (1).csv\"\u001b[0m\u001b[1;33m)\u001b[0m\u001b[1;33m\u001b[0m\u001b[0m\n\u001b[0m",
      "\u001b[1;32m~\\Anaconda3\\lib\\site-packages\\pandas\\core\\frame.py\u001b[0m in \u001b[0;36m__init__\u001b[1;34m(self, data, index, columns, dtype, copy)\u001b[0m\n\u001b[0;32m    420\u001b[0m                                          dtype=values.dtype, copy=False)\n\u001b[0;32m    421\u001b[0m             \u001b[1;32melse\u001b[0m\u001b[1;33m:\u001b[0m\u001b[1;33m\u001b[0m\u001b[0m\n\u001b[1;32m--> 422\u001b[1;33m                 \u001b[1;32mraise\u001b[0m \u001b[0mValueError\u001b[0m\u001b[1;33m(\u001b[0m\u001b[1;34m'DataFrame constructor not properly called!'\u001b[0m\u001b[1;33m)\u001b[0m\u001b[1;33m\u001b[0m\u001b[0m\n\u001b[0m\u001b[0;32m    423\u001b[0m \u001b[1;33m\u001b[0m\u001b[0m\n\u001b[0;32m    424\u001b[0m         \u001b[0mNDFrame\u001b[0m\u001b[1;33m.\u001b[0m\u001b[0m__init__\u001b[0m\u001b[1;33m(\u001b[0m\u001b[0mself\u001b[0m\u001b[1;33m,\u001b[0m \u001b[0mmgr\u001b[0m\u001b[1;33m,\u001b[0m \u001b[0mfastpath\u001b[0m\u001b[1;33m=\u001b[0m\u001b[1;32mTrue\u001b[0m\u001b[1;33m)\u001b[0m\u001b[1;33m\u001b[0m\u001b[0m\n",
      "\u001b[1;31mValueError\u001b[0m: DataFrame constructor not properly called!"
     ]
    }
   ],
   "source": [
    "pd.DataFrame(\"abt_app (1).csv\")"
   ]
  },
  {
   "cell_type": "code",
   "execution_count": null,
   "metadata": {},
   "outputs": [],
   "source": []
  }
 ],
 "metadata": {
  "kernelspec": {
   "display_name": "Python 3",
   "language": "python",
   "name": "python3"
  },
  "language_info": {
   "codemirror_mode": {
    "name": "ipython",
    "version": 3
   },
   "file_extension": ".py",
   "mimetype": "text/x-python",
   "name": "python",
   "nbconvert_exporter": "python",
   "pygments_lexer": "ipython3",
   "version": "3.6.5"
  }
 },
 "nbformat": 4,
 "nbformat_minor": 2
}
