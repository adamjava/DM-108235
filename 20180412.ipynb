{
 "cells": [
  {
   "cell_type": "code",
   "execution_count": 127,
   "metadata": {},
   "outputs": [],
   "source": [
    "import pandas as pd\n",
    "import numpy as np\n",
    "import matplotlib.pyplot as plt"
   ]
  },
  {
   "cell_type": "code",
   "execution_count": 5,
   "metadata": {},
   "outputs": [],
   "source": [
    "from sklearn.datasets import load_iris\n",
    "iris = load_iris()\n",
    "\n",
    "from sklearn.model_selection import train_test_split"
   ]
  },
  {
   "cell_type": "code",
   "execution_count": 16,
   "metadata": {},
   "outputs": [
    {
     "name": "stdout",
     "output_type": "stream",
     "text": [
      "(112, 4)\n",
      "(38, 4)\n",
      "<class 'sklearn.utils.Bunch'>\n",
      "(150, 4)\n"
     ]
    }
   ],
   "source": [
    "#podział na zbiór treningowy i testowy\n",
    "#duży X - dane, mały y - target\n",
    "\n",
    "X_train, X_test, y_train, y_test = train_test_split(iris.data, iris.target)\n",
    "print(X_train.shape)\n",
    "print(X_test.shape)\n",
    "print(type(iris))\n",
    "print(iris.data.shape)"
   ]
  },
  {
   "cell_type": "code",
   "execution_count": 29,
   "metadata": {},
   "outputs": [
    {
     "data": {
      "text/plain": [
       "KNeighborsClassifier(algorithm='auto', leaf_size=30, metric='minkowski',\n",
       "           metric_params=None, n_jobs=1, n_neighbors=3, p=2,\n",
       "           weights='uniform')"
      ]
     },
     "execution_count": 29,
     "metadata": {},
     "output_type": "execute_result"
    }
   ],
   "source": [
    "from sklearn.neighbors import KNeighborsClassifier\n",
    "cls = KNeighborsClassifier(3) #bierzemy 3 najbliższych sąsiadów\n",
    "cls.fit(X_train, y_train) #klsyfikacja nadzorowana"
   ]
  },
  {
   "cell_type": "code",
   "execution_count": 31,
   "metadata": {},
   "outputs": [
    {
     "name": "stdout",
     "output_type": "stream",
     "text": [
      "[0 1 0 0 0 2 0 2 2 0 2 1 2 1 1 2 2 0 0 0 2 0 2 1 2 0 0 1 2 2 0 1 0 1 2 0 0\n",
      " 0]\n",
      "             precision    recall  f1-score   support\n",
      "\n",
      "          0       1.00      1.00      1.00        17\n",
      "          1       1.00      0.88      0.93         8\n",
      "          2       0.93      1.00      0.96        13\n",
      "\n",
      "avg / total       0.98      0.97      0.97        38\n",
      "\n",
      "0.9736842105263158\n"
     ]
    }
   ],
   "source": [
    "#co przewidział model dla danych testowych\n",
    "y_pred = cls.predict(X_test)\n",
    "print(y_pred)\n",
    "\n",
    "#porównywanie naszej klasyfikacji (y_pred) z rzeczywistością (y_test)\n",
    "from sklearn.metrics import accuracy_score,classification_report \n",
    "\n",
    "print(classification_report(y_pred, y_test))\n",
    "print(accuracy_score(y_pred,y_test))"
   ]
  },
  {
   "cell_type": "code",
   "execution_count": 32,
   "metadata": {},
   "outputs": [],
   "source": [
    "##Rzut monetą - ćwiczenia poprzednie"
   ]
  },
  {
   "cell_type": "code",
   "execution_count": 119,
   "metadata": {},
   "outputs": [
    {
     "name": "stdout",
     "output_type": "stream",
     "text": [
      "eksperyment: [1 0 0 0 1 0 0 1 1 1 1 0 1 1 1 1 1 1 0 1 1 1 0 0 0 0 1 1 0 1]\n",
      "18\n"
     ]
    }
   ],
   "source": [
    "total_rzuty = 30\n",
    "liczba_orlow = 24\n",
    "prawd_orla = 0.5\n",
    "\n",
    "# 0 = reszka, 1 = orzeł\n",
    "# wygeneruj jeden eksperyment\n",
    "experiment = np.random.randint(0,2,total_rzuty)\n",
    "\n",
    "print(\"eksperyment: {}\".format(experiment))\n",
    "\n",
    "#Policz liczbę orłów\n",
    "ile_orlow = experiment[experiment==1].shape[0]\n",
    "print(ile_orlow)"
   ]
  },
  {
   "cell_type": "code",
   "execution_count": 123,
   "metadata": {},
   "outputs": [],
   "source": [
    "def rzut_moneta_eksperyment(ile_razy_powtorzyc):\n",
    "    head_count = np.empty([ile_razy_powtorzyc,1],dtype=int)\n",
    "    for times in np.arange(ile_razy_powtorzyc):\n",
    "        experiment = np.random.randint(0,2, total_rzuty)\n",
    "        head_count[times] = experiment[experiment==1].shape[0]\n",
    "    return head_count"
   ]
  },
  {
   "cell_type": "code",
   "execution_count": 155,
   "metadata": {},
   "outputs": [
    {
     "name": "stdout",
     "output_type": "stream",
     "text": [
      "Wymiar:(100000, 1) \n",
      " Typ: <class 'numpy.ndarray'>\n"
     ]
    },
    {
     "name": "stderr",
     "output_type": "stream",
     "text": [
      "C:\\Users\\rumcajs\\Anaconda3\\lib\\site-packages\\matplotlib\\axes\\_axes.py:6462: UserWarning: The 'normed' kwarg is deprecated, and has been replaced by the 'density' kwarg.\n",
      "  warnings.warn(\"The 'normed' kwarg is deprecated, and has been \"\n"
     ]
    },
    {
     "name": "stdout",
     "output_type": "stream",
     "text": [
      "Otrzymaliśmy 68 orłów.\n",
      "Co stanowiło 0.068 procent\n"
     ]
    },
    {
     "data": {
      "image/png": "[encoded data removed]",
      "text/plain": [
       "<Figure size 432x288 with 1 Axes>"
      ]
     },
     "metadata": {},
     "output_type": "display_data"
    }
   ],
   "source": [
    "head_count = rzut_moneta_eksperyment(100000)\n",
    "head_count[:10]\n",
    "print('Wymiar:{} \\n Typ: {}'.format(head_count.shape,type(head_count)))\n",
    "\n",
    "%matplotlib inline\n",
    "import seaborn as sns\n",
    "sns.set(color_codes = True)\n",
    "\n",
    "sns.distplot(head_count, kde=False)\n",
    "sns.distplot(head_count, kde=True)\n",
    "\n",
    "#print('Otrzymaliśmy {} orłów. Co stanowiło {} procent').format((head_count[head_count >= 24].shape[0]),(head_count[head_count>=24].shape[0]/float(head_count.shape[0])*100))\n",
    "\n",
    "print('Otrzymaliśmy {} orłów.'.format(head_count[head_count >= 24].shape[0]))\n",
    "print('Co stanowiło {} procent'.format(head_count[head_count>=24].shape[0]/float(head_count.shape[0])*100))"
   ]
  },
  {
   "cell_type": "code",
   "execution_count": 162,
   "metadata": {},
   "outputs": [],
   "source": [
    "total_tosses = 30\n",
    "def coin_toss_experiment(times_to_repeat):\n",
    "    head_count = np.empty([times_to_repeat,1], dtype=int)\n",
    "    experiment = np.random.randint(0,2,[times_to_repeat,total_tosses])\n",
    "    return experiment.sum(axis=1)"
   ]
  },
  {
   "cell_type": "code",
   "execution_count": 165,
   "metadata": {},
   "outputs": [
    {
     "data": {
      "text/plain": [
       "array([14, 12, 14, ..., 13, 11, 13])"
      ]
     },
     "execution_count": 165,
     "metadata": {},
     "output_type": "execute_result"
    }
   ],
   "source": [
    "coin_toss_experiment(10000)"
   ]
  }
 ],
 "metadata": {
  "kernelspec": {
   "display_name": "Python 3",
   "language": "python",
   "name": "python3"
  },
  "language_info": {
   "codemirror_mode": {
    "name": "ipython",
    "version": 3
   },
   "file_extension": ".py",
   "mimetype": "text/x-python",
   "name": "python",
   "nbconvert_exporter": "python",
   "pygments_lexer": "ipython3",
   "version": "3.6.5"
  }
 },
 "nbformat": 4,
 "nbformat_minor": 2
}
